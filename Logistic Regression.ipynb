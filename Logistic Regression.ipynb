{
 "cells": [
  {
   "cell_type": "markdown",
   "metadata": {},
   "source": [
    "# Assignment 3 : Logistic Regression"
   ]
  },
  {
   "cell_type": "markdown",
   "metadata": {},
   "source": [
    "In this assignment you have to use the logistic regression technique you learned in the week 3 of the prescribed course. You have to use numpy to complete the assignment"
   ]
  },
  {
   "cell_type": "markdown",
   "metadata": {},
   "source": [
    "#### Import other the libraries here"
   ]
  },
  {
   "cell_type": "code",
   "execution_count": 10,
   "metadata": {},
   "outputs": [
    {
     "name": "stdout",
     "output_type": "stream",
     "text": [
      "Requirement already satisfied: seaborn in /home/arpon/snap/jupyter/common/lib/python3.7/site-packages (0.11.1)\n",
      "Requirement already satisfied: pandas>=0.23 in /home/arpon/snap/jupyter/common/lib/python3.7/site-packages (from seaborn) (1.2.3)\n",
      "Requirement already satisfied: matplotlib>=2.2 in /home/arpon/snap/jupyter/common/lib/python3.7/site-packages (from seaborn) (3.4.0)\n",
      "Requirement already satisfied: scipy>=1.0 in /home/arpon/snap/jupyter/common/lib/python3.7/site-packages (from seaborn) (1.6.2)\n",
      "Requirement already satisfied: numpy>=1.15 in /home/arpon/snap/jupyter/common/lib/python3.7/site-packages (from seaborn) (1.19.5)\n",
      "Requirement already satisfied: pillow>=6.2.0 in /home/arpon/snap/jupyter/common/lib/python3.7/site-packages (from matplotlib>=2.2->seaborn) (8.1.2)\n",
      "Requirement already satisfied: kiwisolver>=1.0.1 in /home/arpon/snap/jupyter/common/lib/python3.7/site-packages (from matplotlib>=2.2->seaborn) (1.3.1)\n",
      "Requirement already satisfied: pyparsing>=2.2.1 in /home/arpon/snap/jupyter/common/lib/python3.7/site-packages (from matplotlib>=2.2->seaborn) (2.4.7)\n",
      "Requirement already satisfied: python-dateutil>=2.7 in /snap/jupyter/6/lib/python3.7/site-packages (from matplotlib>=2.2->seaborn) (2.8.0)\n",
      "Requirement already satisfied: cycler>=0.10 in /home/arpon/snap/jupyter/common/lib/python3.7/site-packages (from matplotlib>=2.2->seaborn) (0.10.0)\n",
      "Requirement already satisfied: six in /home/arpon/snap/jupyter/common/lib/python3.7/site-packages (from cycler>=0.10->matplotlib>=2.2->seaborn) (1.15.0)\n",
      "Requirement already satisfied: pytz>=2017.3 in /home/arpon/snap/jupyter/common/lib/python3.7/site-packages (from pandas>=0.23->seaborn) (2021.1)\n"
     ]
    }
   ],
   "source": [
    "import pandas as pd\n",
    "import numpy as np\n",
    "import math\n",
    "import matplotlib\n",
    "from matplotlib import pyplot\n",
    "import matplotlib.pyplot as plt\n",
    "from matplotlib.image import imread\n",
    "! python -m pip install seaborn\n",
    "from sklearn.linear_model import LogisticRegression\n",
    "import seaborn as sns\n",
    "from sklearn import metrics"
   ]
  },
  {
   "cell_type": "markdown",
   "metadata": {},
   "source": [
    "##### Define these functions here:\n",
    "- Sigmoid function: `def sigmoid(x):`"
   ]
  },
  {
   "cell_type": "code",
   "execution_count": 11,
   "metadata": {},
   "outputs": [],
   "source": [
    "def sigmoid(t):\n",
    "    return 1/(1 + np.exp(-t))"
   ]
  },
  {
   "cell_type": "markdown",
   "metadata": {},
   "source": [
    "- cost function: `def cost_fn(x,y,theta):` (refer to the course)"
   ]
  },
  {
   "cell_type": "code",
   "execution_count": 12,
   "metadata": {},
   "outputs": [],
   "source": [
    "def cost_fn(X,y,theta):\n",
    "    h = sigmoid(X.dot(theta))\n",
    "    totalSum = np.transpose(y).dot(np.log(h)) + np.transpose(1-y).dot(np.log(1-h))    \n",
    "    m = len(X)\n",
    "    return (-totalSum/m)"
   ]
  },
  {
   "cell_type": "markdown",
   "metadata": {},
   "source": [
    "- Gradient descent: `def gradient_descent(X, y, theta, learning_rate=1, iters):`\n",
    "\n",
    "$\\frac{\\partial J}{\\partial \\theta} = \\frac{1}{m} \\Sigma_{i=1}^m ((h_\\theta(x^{(i)})-y^{(i)})x_j^{(i)})$\n",
    "\n",
    "$\\theta_{j+1}^{(i)} = \\theta_j^{(i)} - \\frac{1}{m} \\Sigma_{i=1}^m ((h_\\theta(x^{(i)})-y^{(i)})x_j^{(i)})$\n",
    "\n",
    "Since these are for each element of your matrix. The final expression will be: (if using matrices)\n",
    "$\\theta_{j+1} = \\theta_j - \\frac{1}{m} \\Sigma_{i=1}^m ((h_\\theta(x)-y)x_j)$\n",
    "\n",
    "You have to initialise $\\theta$ and update it at each iteration according to this gradient descent equation"
   ]
  },
  {
   "cell_type": "code",
   "execution_count": 13,
   "metadata": {},
   "outputs": [],
   "source": [
    "def gradient_descent(X, y, theta, learning_rate, iters):\n",
    "    m = len(X)\n",
    "    for i in range(iters):\n",
    "        h = sigmoid(X.dot(theta))\n",
    "        temp = theta - np.transpose(X).dot(h-y)*(learning_rate/m)\n",
    "        theta = temp\n",
    "    return theta"
   ]
  },
  {
   "cell_type": "markdown",
   "metadata": {},
   "source": [
    "- Predict: `def predict(X, y, theta, learning_rate=1, iters)`:"
   ]
  },
  {
   "cell_type": "code",
   "execution_count": 14,
   "metadata": {},
   "outputs": [],
   "source": [
    "def predict(X, y, theta, learning_rate, iters):\n",
    "    theta = gradient_descent(X, y, theta, learning_rate, iters)\n",
    "    return sigmoid(X.dot(theta))"
   ]
  },
  {
   "cell_type": "markdown",
   "metadata": {},
   "source": [
    "### Load MNSIT data here\n",
    "\n",
    "There are two file, X.csv and y.csv.\n",
    "You have to load these csv files (read about csv in python) and store them in python variables. \n",
    "There are 5000 images, each line in X.csv is an image (pixels of image of size 20x20 are concatenated to size 400x1) and each line is y.csv is the label of that image (label in n-th line in y.csv corresponds to image in n-th line in X.csv)"
   ]
  },
  {
   "cell_type": "code",
   "execution_count": 15,
   "metadata": {},
   "outputs": [
    {
     "name": "stdout",
     "output_type": "stream",
     "text": [
      "[[0. 0. 0. ... 0. 0. 0.]\n",
      " [0. 0. 0. ... 0. 0. 0.]\n",
      " [0. 0. 0. ... 0. 0. 0.]\n",
      " ...\n",
      " [0. 0. 0. ... 0. 0. 0.]\n",
      " [0. 0. 0. ... 0. 0. 0.]\n",
      " [0. 0. 0. ... 0. 0. 0.]]\n",
      "[0 0 0 ... 9 9 9]\n"
     ]
    }
   ],
   "source": [
    "X = pd.read_csv(\"X.csv\", header = None) \n",
    "X = np.array(X)\n",
    "print (X) \n",
    "y = pd.read_csv(\"y.csv\", header = None) \n",
    "y = np.array(y)\n",
    "y = y.flatten()\n",
    "print (y)"
   ]
  },
  {
   "cell_type": "markdown",
   "metadata": {},
   "source": [
    "Now your task is to:\n",
    "1. Reshape these to 20x20 and show any 5 of them (random) here. \n",
    "2. For regression, you have to use the 400x1 data only. (X will be a 5000x400 matrix and y will be a 1x400 matrix)\n",
    "3. Get you prediction and compare it with the labels in y\n",
    "4. Calculate the error %"
   ]
  },
  {
   "cell_type": "code",
   "execution_count": 223,
   "metadata": {},
   "outputs": [
    {
     "data": {
      "image/png": "[encoded data removed]",
      "text/plain": [
       "<Figure size 1440x288 with 5 Axes>"
      ]
     },
     "metadata": {
      "needs_background": "light"
     },
     "output_type": "display_data"
    }
   ],
   "source": [
    "plt.figure(figsize=(20,4))\n",
    "for index, (image, label) in enumerate(zip(X[498:503], y[498:503])):\n",
    " plt.subplot(1, 5, index + 1)\n",
    " plt.imshow(np.reshape(image, (20,20)), cmap = plt.cm.gray)\n",
    " plt.title('Label: %i\\n' % label, fontsize = 20)"
   ]
  },
  {
   "cell_type": "code",
   "execution_count": 16,
   "metadata": {},
   "outputs": [
    {
     "name": "stdout",
     "output_type": "stream",
     "text": [
      "Printing prediction for digit 0  [9.99829087e-01 9.99846350e-01 9.92474662e-01 ... 3.95263574e-07\n",
      " 2.51965847e-07 9.05118902e-03]\n",
      "Printing prediction for digit 1  [3.37374355e-12 2.54816494e-10 7.11467037e-13 ... 4.30796879e-02\n",
      " 1.50126142e-10 2.91334088e-14]\n",
      "Printing prediction for digit 2  [5.10529546e-04 2.36140929e-05 1.08860948e-04 ... 2.60540979e-03\n",
      " 5.78272145e-10 1.29812741e-05]\n",
      "Printing prediction for digit 3  [2.05596637e-04 1.68665588e-04 9.54327518e-05 ... 1.58419390e-01\n",
      " 2.56518500e-07 4.99996233e-10]\n",
      "Printing prediction for digit 4  [2.86175471e-08 8.29077964e-09 6.75229202e-08 ... 9.72367240e-04\n",
      " 2.96592186e-02 3.11842695e-04]\n",
      "Printing prediction for digit 5  [4.88768801e-04 5.56379265e-03 6.92072182e-04 ... 1.02785621e-01\n",
      " 1.53145109e-03 5.65523156e-10]\n",
      "Printing prediction for digit 6  [7.98287693e-06 1.32811798e-08 2.57006687e-05 ... 7.90501895e-03\n",
      " 3.29487375e-09 4.25191354e-06]\n",
      "Printing prediction for digit 7  [3.15171096e-06 1.89772373e-06 6.78195906e-07 ... 5.53539882e-05\n",
      " 3.86167804e-04 3.56064690e-01]\n",
      "Printing prediction for digit 8  [3.38307045e-06 1.72530369e-09 5.97308115e-04 ... 1.51163587e-03\n",
      " 2.46521227e-04 6.51822178e-03]\n",
      "Printing prediction for digit 9  [1.73955714e-03 1.93015359e-05 1.98390921e-03 ... 8.96749174e-01\n",
      " 8.91314789e-01 3.76383903e-01]\n",
      "Printing error percentages for digit 0  [0 0 0 ... 0 0 0]\n",
      "Printing error percentages for digit 1  [0 0 0 ... 4 0 0]\n",
      "Printing error percentages for digit 2  [0 0 0 ... 0 0 0]\n",
      "Printing error percentages for digit 3  [ 0  0  0 ... 15  0  0]\n",
      "Printing error percentages for digit 4  [0 0 0 ... 0 2 0]\n",
      "Printing error percentages for digit 5  [ 0  0  0 ... 10  0  0]\n",
      "Printing error percentages for digit 6  [0 0 0 ... 0 0 0]\n",
      "Printing error percentages for digit 7  [ 0  0  0 ...  0  0 35]\n",
      "Printing error percentages for digit 8  [0 0 0 ... 0 0 0]\n",
      "Printing error percentages for digit 9  [ 0  0  0 ... 10 10 62]\n"
     ]
    }
   ],
   "source": [
    "theta = np.zeros(400)\n",
    "l = len(y)\n",
    "yprocessed = np.arange(l)\n",
    "\n",
    "data = []\n",
    "\n",
    "for j in range(10):\n",
    "        for i in range(l):\n",
    "             if(y[i] == j):\n",
    "                yprocessed[i] = 1 \n",
    "                \n",
    "             else: yprocessed[i] = 0              \n",
    "        pred = predict(X, yprocessed, theta, 4, 1500)\n",
    "        print(\"Printing prediction for digit {} \".format(j),pred)\n",
    "        pred = pred.tolist()\n",
    "        data.append(pred)\n",
    "data = np.asarray(data)      \n",
    "#print(data)\n",
    "\n",
    "\n",
    "error = np.arange(l)\n",
    "\n",
    "ErrorCatalog = [error for j in range(10)]\n",
    "for j in range(10):\n",
    "        for i in range(l):\n",
    "             if(y[i] == j):\n",
    "                error[i] = 100*(1 - data[j][i]) \n",
    "               \n",
    "             else: \n",
    "                error[i] = 100*data[j][i] \n",
    "              \n",
    "        #ErrorCatalog.append(error)\n",
    "        ErrorCatalog[j]=error\n",
    "        #print(error)       \n",
    "        \n",
    "        \n",
    "        print(\"Printing error percentages for digit {} \".format(j),error) \n",
    "        #ErrorCatalog.append(error)\n",
    "#print(ErrorCatalog)"
   ]
  },
  {
   "cell_type": "markdown",
   "metadata": {},
   "source": [
    "Generate the [confusion matrix](https://en.wikipedia.org/wiki/Confusion_matrix) here and show it here: \n"
   ]
  },
  {
   "cell_type": "code",
   "execution_count": 28,
   "metadata": {},
   "outputs": [
    {
     "name": "stdout",
     "output_type": "stream",
     "text": [
      "[[492.   0.   2.   0.   0.   2.   1.   2.   0.   1.]\n",
      " [  0. 486.   1.   1.   1.   1.   1.   1.   1.   2.]\n",
      " [  0.   1. 437.   8.   3.   2.   3.   4.   0.   1.]\n",
      " [  1.   1.   5. 430.   1.  14.   0.   4.   5.   2.]\n",
      " [  1.   0.   5.   1. 461.   5.   3.   3.   0.   4.]\n",
      " [  5.   0.   2.   7.   0. 433.   5.   1.   2.   3.]\n",
      " [  2.   0.   5.   0.   2.   4. 480.   0.   0.   0.]\n",
      " [  0.   0.   3.   4.   0.   0.   0. 463.   1.   9.]\n",
      " [  1.   5.  10.   0.   3.   7.   1.   2. 283.   1.]\n",
      " [  0.   0.   2.   5.  28.   9.   0.  44.   3. 438.]]\n"
     ]
    }
   ],
   "source": [
    "conm = np.zeros((10, 10))\n",
    "for j in range(10):\n",
    "        for i in range(l):\n",
    "             if(500*j <= i and i < 500*(i+1) and data[j][i] > 0.5):\n",
    "                conm[j][math.floor(i/500)] = conm[j][math.floor(i/500)] + 1 \n",
    "                \n",
    "             elif ((500*j > i or i >= 500*(i+1)) and data[j][i] > 0.5): conm[j][math.floor(i/500)] = conm[j][math.floor(i/500)] + 1              \n",
    "print(conm)"
   ]
  },
  {
   "cell_type": "markdown",
   "metadata": {},
   "source": [
    "#### Bonus task: \n",
    "Use [scikit-learn](https://scikit-learn.org/stable/modules/generated/sklearn.linear_model.LogisticRegression.html) to perform logistic regression (just a single function which will handle all your task :P)"
   ]
  },
  {
   "cell_type": "code",
   "execution_count": 20,
   "metadata": {},
   "outputs": [
    {
     "data": {
      "text/plain": [
       "array([5])"
      ]
     },
     "execution_count": 20,
     "metadata": {},
     "output_type": "execute_result"
    }
   ],
   "source": [
    "logisticRegressor = LogisticRegression(solver = 'liblinear', multi_class = 'ovr')\n",
    "logisticRegressor.fit(X, y)\n",
    "logisticRegressor.predict(X[2693].reshape(1,-1)) # We verify that the label was indeed 5 for the index 2693"
   ]
  },
  {
   "cell_type": "code",
   "execution_count": 21,
   "metadata": {},
   "outputs": [
    {
     "name": "stdout",
     "output_type": "stream",
     "text": [
      "0.9438\n"
     ]
    }
   ],
   "source": [
    "score = logisticRegressor.score(X, y)\n",
    "print(score)"
   ]
  },
  {
   "cell_type": "code",
   "execution_count": 226,
   "metadata": {},
   "outputs": [
    {
     "name": "stdout",
     "output_type": "stream",
     "text": [
      "[[496   0   0   0   1   1   1   0   1   0]\n",
      " [  0 492   1   0   0   5   0   0   2   0]\n",
      " [  2   4 459   4   7   2   2   4  13   3]\n",
      " [  0   3  11 453   0  16   1   6   5   5]\n",
      " [  0   2   2   0 477   0   4   0   4  11]\n",
      " [  3   1   3  12   5 456   5   0  10   5]\n",
      " [  2   2   0   0   1   6 488   0   1   0]\n",
      " [  2   3   3   0   4   1   0 474   1  12]\n",
      " [  1   6   5   7   5   5   2   1 463   5]\n",
      " [  4   2   3   5   4   3   1  14   3 461]]\n"
     ]
    }
   ],
   "source": [
    "predictions = logisticRegressor.predict(X)\n",
    "cm = metrics.confusion_matrix(y, predictions)\n",
    "print(cm)"
   ]
  }
 ],
 "metadata": {
  "kernelspec": {
   "display_name": "Python 3",
   "language": "python",
   "name": "python3"
  },
  "language_info": {
   "codemirror_mode": {
    "name": "ipython",
    "version": 3
   },
   "file_extension": ".py",
   "mimetype": "text/x-python",
   "name": "python",
   "nbconvert_exporter": "python",
   "pygments_lexer": "ipython3",
   "version": "3.7.3"
  }
 },
 "nbformat": 4,
 "nbformat_minor": 4
}
