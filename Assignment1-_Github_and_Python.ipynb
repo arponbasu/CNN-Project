{
 "cells": [
  {
   "cell_type": "markdown",
   "metadata": {},
   "source": [
    "I hope by now, you have installed Python and Jupyter Notebook and now know some basic shorcuts to work with it, if not look at the documentation-https://jupyter-notebook.readthedocs.io/en/stable/. \n",
    "\n",
    "We will next look at version controlling and some hands on tasks on python. For version controlling we will use a free open-source version control software Git. "
   ]
  },
  {
   "cell_type": "markdown",
   "metadata": {},
   "source": [
    "To install git follow https://git-scm.com/book/en/v2/Getting-Started-Installing-Git. After that create an account on Github which is a version control platform that uses git."
   ]
  },
  {
   "cell_type": "markdown",
   "metadata": {},
   "source": [
    "After you are done, fire your terminal and setup git on your local system. \n",
    "```\n",
    "git config --global user.name \"John Doe\"\n",
    "git config --global user.email johndoe@example.com\n",
    "```\n",
    "\n"
   ]
  },
  {
   "cell_type": "markdown",
   "metadata": {},
   "source": [
    "Now go to Github and create a repository. Get that repository to your local system. Hint- search ```git clone``` and learn about it. After creating a repository and cloning it into your local system, we will commit and push this file into the repository. So move this notebook to the cloned repo and then search how to commit and push into github repository. \n",
    "\n",
    "```Hint : git add, git status, git commit, git push will be helpful```\n"
   ]
  },
  {
   "cell_type": "markdown",
   "metadata": {},
   "source": [
    "Let's get started. So this assignment is a basic assignment on Python3.0 and some basic libraries. Import all the required libraries in the cell below this."
   ]
  },
  {
   "cell_type": "code",
   "execution_count": 5,
   "metadata": {},
   "outputs": [
    {
     "name": "stdout",
     "output_type": "stream",
     "text": [
      "Requirement already satisfied: numpy in /home/arpon/snap/jupyter/common/lib/python3.7/site-packages (1.20.1)\n",
      "Collecting pandas\n",
      "\u001b[?25l  Downloading https://files.pythonhosted.org/packages/f3/d4/3fe3b5bf9886912b64ef040040aec356fa48825e5a829a84c2667afdf952/pandas-1.2.3-cp37-cp37m-manylinux1_x86_64.whl (9.9MB)\n",
      "\u001b[K     |████████████████████████████████| 9.9MB 5.6MB/s eta 0:00:01     |█▍                              | 419kB 1.8MB/s eta 0:00:06     |█████████▋                      | 3.0MB 1.8MB/s eta 0:00:04     |████████████████▌               | 5.1MB 1.8MB/s eta 0:00:03     |█████████████████████████████   | 8.9MB 5.6MB/s eta 0:00:01     |████████████████████████████████| 9.9MB 5.6MB/s eta 0:00:01\n",
      "\u001b[?25hRequirement already satisfied: numpy>=1.16.5 in /home/arpon/snap/jupyter/common/lib/python3.7/site-packages (from pandas) (1.20.1)\n",
      "Collecting pytz>=2017.3 (from pandas)\n",
      "\u001b[?25l  Downloading https://files.pythonhosted.org/packages/70/94/784178ca5dd892a98f113cdd923372024dc04b8d40abe77ca76b5fb90ca6/pytz-2021.1-py2.py3-none-any.whl (510kB)\n",
      "\u001b[K     |████████████████████████████████| 512kB 6.8MB/s eta 0:00:01\n",
      "\u001b[?25hRequirement already satisfied: python-dateutil>=2.7.3 in /snap/jupyter/6/lib/python3.7/site-packages (from pandas) (2.8.0)\n",
      "Requirement already satisfied: six>=1.5 in /snap/jupyter/6/lib/python3.7/site-packages (from python-dateutil>=2.7.3->pandas) (1.12.0)\n",
      "Installing collected packages: pytz, pandas\n",
      "Successfully installed pandas-1.2.3 pytz-2021.1\n",
      "Collecting matplotlib\n",
      "\u001b[?25l  Downloading https://files.pythonhosted.org/packages/83/ee/8d7e0149ecf95fae7e744c5a93f51a8c9f7a96c63691d10aed6d2c1d8735/matplotlib-3.4.0-cp37-cp37m-manylinux1_x86_64.whl (10.3MB)\n",
      "\u001b[K     |████████████████████████████████| 10.3MB 3.2MB/s eta 0:00:01    |▌                               | 153kB 3.0MB/s eta 0:00:04     |█▋                              | 501kB 3.0MB/s eta 0:00:04     |████▏                           | 1.4MB 3.0MB/s eta 0:00:03     |███████▏                        | 2.3MB 3.0MB/s eta 0:00:03     |█████████▎                      | 3.0MB 3.0MB/s eta 0:00:03     |█████████████▎                  | 4.3MB 3.0MB/s eta 0:00:03     |███████████████▉                | 5.1MB 3.2MB/s eta 0:00:02     |███████████████████▌            | 6.3MB 3.2MB/s eta 0:00:02     |████████████████████▉           | 6.7MB 3.2MB/s eta 0:00:02     |█████████████████████▊          | 7.0MB 3.2MB/s eta 0:00:02     |███████████████████████         | 7.4MB 3.2MB/s eta 0:00:01     |█████████████████████████▊      | 8.3MB 3.2MB/s eta 0:00:01\n",
      "\u001b[?25hCollecting kiwisolver>=1.0.1 (from matplotlib)\n",
      "\u001b[?25l  Downloading https://files.pythonhosted.org/packages/d2/46/231de802ade4225b76b96cffe419cf3ce52bbe92e3b092cf12db7d11c207/kiwisolver-1.3.1-cp37-cp37m-manylinux1_x86_64.whl (1.1MB)\n",
      "\u001b[K     |████████████████████████████████| 1.1MB 7.2MB/s eta 0:00:01     |█████                           | 174kB 7.2MB/s eta 0:00:01\n",
      "\u001b[?25hRequirement already satisfied: python-dateutil>=2.7 in /snap/jupyter/6/lib/python3.7/site-packages (from matplotlib) (2.8.0)\n",
      "Requirement already satisfied: numpy>=1.16 in /home/arpon/snap/jupyter/common/lib/python3.7/site-packages (from matplotlib) (1.20.1)\n",
      "Collecting pillow>=6.2.0 (from matplotlib)\n",
      "\u001b[?25l  Downloading https://files.pythonhosted.org/packages/1f/6d/b719ae8e21660a6a962636896dc4b7d657ef451a3ab941516401846ac5cb/Pillow-8.1.2-cp37-cp37m-manylinux1_x86_64.whl (2.2MB)\n",
      "\u001b[K     |████████████████████████████████| 2.2MB 5.2MB/s eta 0:00:01     |█████████████▊                  | 952kB 5.2MB/s eta 0:00:01\n",
      "\u001b[?25hCollecting pyparsing>=2.2.1 (from matplotlib)\n",
      "\u001b[?25l  Downloading https://files.pythonhosted.org/packages/8a/bb/488841f56197b13700afd5658fc279a2025a39e22449b7cf29864669b15d/pyparsing-2.4.7-py2.py3-none-any.whl (67kB)\n",
      "\u001b[K     |█████████████████████████████   | 61kB 13.4MB/s eta 0:00:01     |████████████████████████████████| 71kB 13.2MB/s \n",
      "\u001b[?25hCollecting cycler>=0.10 (from matplotlib)\n",
      "  Downloading https://files.pythonhosted.org/packages/f7/d2/e07d3ebb2bd7af696440ce7e754c59dd546ffe1bbe732c8ab68b9c834e61/cycler-0.10.0-py2.py3-none-any.whl\n",
      "Requirement already satisfied: six>=1.5 in /snap/jupyter/6/lib/python3.7/site-packages (from python-dateutil>=2.7->matplotlib) (1.12.0)\n",
      "Installing collected packages: kiwisolver, pillow, pyparsing, cycler, matplotlib\n",
      "Successfully installed cycler-0.10.0 kiwisolver-1.3.1 matplotlib-3.4.0 pillow-8.1.2 pyparsing-2.4.7\n",
      "Collecting scipy\n",
      "\u001b[?25l  Downloading https://files.pythonhosted.org/packages/75/91/ee427c42957f8c4cbe477bf4f8b7f608e003a17941e509d1777e58648cb3/scipy-1.6.2-cp37-cp37m-manylinux1_x86_64.whl (27.4MB)\n",
      "\u001b[K     |████████████████████████████████| 27.4MB 1.5MB/s eta 0:00:01    |▏                               | 184kB 619kB/s eta 0:00:44     |█                               | 942kB 619kB/s eta 0:00:43     |██▊                             | 2.3MB 619kB/s eta 0:00:41     |█████▌                          | 4.7MB 4.5MB/s eta 0:00:06     |███████▎                        | 6.2MB 4.5MB/s eta 0:00:05     |███████▊                        | 6.6MB 4.5MB/s eta 0:00:05     |█████████                       | 7.7MB 4.5MB/s eta 0:00:05     |██████████▎                     | 8.8MB 3.8MB/s eta 0:00:05     |████████████▎                   | 10.5MB 3.8MB/s eta 0:00:05     |████████████▊                   | 10.8MB 3.8MB/s eta 0:00:05     |████████████████▏               | 13.8MB 3.8MB/s eta 0:00:04     |████████████████▍               | 14.0MB 3.8MB/s eta 0:00:04     |████████████████▊               | 14.3MB 2.3MB/s eta 0:00:06     |██████████████████▍             | 15.7MB 2.3MB/s eta 0:00:06     |████████████████████▉           | 17.9MB 2.3MB/s eta 0:00:05     |██████████████████████          | 18.8MB 2.3MB/s eta 0:00:04     |█████████████████████████▊      | 22.0MB 6.2MB/s eta 0:00:01     |██████████████████████████▌     | 22.7MB 6.2MB/s eta 0:00:01     |████████████████████████████▋   | 24.5MB 1.5MB/s eta 0:00:02     |█████████████████████████████   | 24.8MB 1.5MB/s eta 0:00:02     |█████████████████████████████▍  | 25.2MB 1.5MB/s eta 0:00:02     |██████████████████████████████  | 25.7MB 1.5MB/s eta 0:00:02     |██████████████████████████████▊ | 26.3MB 1.5MB/s eta 0:00:01     |███████████████████████████████▉| 27.3MB 1.5MB/s eta 0:00:01     |████████████████████████████████| 27.4MB 1.5MB/s \n",
      "\u001b[?25hRequirement already satisfied: numpy<1.23.0,>=1.16.5 in /home/arpon/snap/jupyter/common/lib/python3.7/site-packages (from scipy) (1.20.1)\n",
      "Installing collected packages: scipy\n",
      "Successfully installed scipy-1.6.2\n",
      "Collecting scikit-learn\n",
      "\u001b[?25l  Downloading https://files.pythonhosted.org/packages/f3/74/eb899f41d55f957e2591cde5528e75871f817d9fb46d4732423ecaca736d/scikit_learn-0.24.1-cp37-cp37m-manylinux2010_x86_64.whl (22.3MB)\n",
      "\u001b[K     |████████████████████████████████| 22.3MB 7.0MB/s eta 0:00:01    |███                             | 2.1MB 1.2MB/s eta 0:00:18     |█████▏                          | 3.6MB 1.2MB/s eta 0:00:17     |██████▍                         | 4.4MB 1.2MB/s eta 0:00:16     |█████████▊                      | 6.7MB 2.7MB/s eta 0:00:06     |██████████▏                     | 7.0MB 2.7MB/s eta 0:00:06     |██████████▊                     | 7.5MB 2.7MB/s eta 0:00:06     |███████████▌                    | 8.0MB 2.7MB/s eta 0:00:06     |████████████▋                   | 8.8MB 2.7MB/s eta 0:00:06     |██████████████▏                 | 9.9MB 2.7MB/s eta 0:00:05     |███████████████▌                | 10.8MB 2.7MB/s eta 0:00:05     |██████████████████▏             | 12.6MB 4.7MB/s eta 0:00:03     |██████████████████████          | 15.2MB 4.7MB/s eta 0:00:02     |██████████████████████▌         | 15.6MB 4.7MB/s eta 0:00:02     |███████████████████████▏        | 16.1MB 4.7MB/s eta 0:00:02     |████████████████████████        | 16.7MB 4.7MB/s eta 0:00:02     |██████████████████████████▉     | 18.7MB 4.7MB/s eta 0:00:01     |████████████████████████████▎   | 19.7MB 7.0MB/s eta 0:00:01     |█████████████████████████████▍  | 20.4MB 7.0MB/s eta 0:00:01\n",
      "\u001b[?25hCollecting joblib>=0.11 (from scikit-learn)\n",
      "\u001b[?25l  Downloading https://files.pythonhosted.org/packages/55/85/70c6602b078bd9e6f3da4f467047e906525c355a4dacd4f71b97a35d9897/joblib-1.0.1-py3-none-any.whl (303kB)\n"
     ]
    },
    {
     "name": "stdout",
     "output_type": "stream",
     "text": [
      "\u001b[K     |████████████████████████████████| 307kB 3.6MB/s eta 0:00:01\n",
      "\u001b[?25hRequirement already satisfied: numpy>=1.13.3 in /home/arpon/snap/jupyter/common/lib/python3.7/site-packages (from scikit-learn) (1.20.1)\n",
      "Collecting threadpoolctl>=2.0.0 (from scikit-learn)\n",
      "  Downloading https://files.pythonhosted.org/packages/f7/12/ec3f2e203afa394a149911729357aa48affc59c20e2c1c8297a60f33f133/threadpoolctl-2.1.0-py3-none-any.whl\n",
      "Requirement already satisfied: scipy>=0.19.1 in /home/arpon/snap/jupyter/common/lib/python3.7/site-packages (from scikit-learn) (1.6.2)\n",
      "Installing collected packages: joblib, threadpoolctl, scikit-learn\n",
      "Successfully installed joblib-1.0.1 scikit-learn-0.24.1 threadpoolctl-2.1.0\n",
      "Collecting tensorflow\n",
      "\u001b[?25l  Downloading https://files.pythonhosted.org/packages/70/dc/e8c5e7983866fa4ef3fd619faa35f660b95b01a2ab62b3884f038ccab542/tensorflow-2.4.1-cp37-cp37m-manylinux2010_x86_64.whl (394.3MB)\n"
     ]
    },
    {
     "name": "stdout",
     "output_type": "stream",
     "text": [
      "\u001b[K     |██████████                      | 122.9MB 9.0MB/s eta 0:00:31  |                                | 30kB 3.7MB/s eta 0:01:48     |                                | 419kB 5.1MB/s eta 0:01:17     |▏                               | 1.4MB 5.1MB/s eta 0:01:17     |▍                               | 4.4MB 11.0MB/s eta 0:00:36     |▌                               | 5.7MB 11.0MB/s eta 0:00:36     |▌                               | 6.1MB 11.0MB/s eta 0:00:36     |▋                               | 7.5MB 11.0MB/s eta 0:00:36     |▋                               | 7.8MB 11.0MB/s eta 0:00:35     |▉                               | 10.4MB 11.0MB/s eta 0:00:35     |█▏                              | 14.1MB 4.1MB/s eta 0:01:32     |█▏                              | 15.0MB 4.1MB/s eta 0:01:32     |█▍                              | 17.3MB 4.1MB/s eta 0:01:32     |█▌                              | 18.1MB 1.4MB/s eta 0:04:24     |█▌                              | 18.7MB 1.4MB/s eta 0:04:24     |█▋                              | 19.3MB 1.4MB/s eta 0:04:24     |█▊                              | 21.4MB 1.4MB/s eta 0:04:22     |█▉                              | 23.1MB 1.4MB/s eta 0:04:21     |██                              | 23.6MB 2.5MB/s eta 0:02:28     |██                              | 24.9MB 2.5MB/s eta 0:02:28     |██                              | 25.7MB 2.5MB/s eta 0:02:27     |██▏                             | 26.0MB 2.5MB/s eta 0:02:27     |██▏                             | 26.7MB 2.5MB/s eta 0:02:27     |██▍                             | 28.9MB 2.5MB/s eta 0:02:26     |██▌                             | 30.6MB 2.0MB/s eta 0:03:00     |██▌                             | 31.0MB 2.0MB/s eta 0:03:00     |██▋                             | 32.0MB 2.0MB/s eta 0:03:00     |██▋                             | 32.3MB 2.0MB/s eta 0:03:00     |██▋                             | 32.5MB 2.0MB/s eta 0:03:00     |██▊                             | 33.1MB 2.0MB/s eta 0:02:59     |██▊                             | 34.0MB 2.0MB/s eta 0:02:59     |██▉                             | 34.3MB 2.0MB/s eta 0:02:59     |███                             | 36.4MB 6.1MB/s eta 0:00:59     |███                             | 37.6MB 6.1MB/s eta 0:00:59     |███▎                            | 40.5MB 6.1MB/s eta 0:00:58     |███▍                            | 41.3MB 6.1MB/s eta 0:00:58     |███▌                            | 43.7MB 6.1MB/s eta 0:00:58     |███▋                            | 44.9MB 6.1MB/s eta 0:00:58     |███▉                            | 47.3MB 6.1MB/s eta 0:00:57     |████                            | 49.4MB 6.2MB/s eta 0:00:57     |████                            | 49.7MB 6.2MB/s eta 0:00:56     |████                            | 50.1MB 6.2MB/s eta 0:00:56     |████                            | 50.5MB 6.2MB/s eta 0:00:56     |████▎                           | 52.6MB 6.2MB/s eta 0:00:56     |████▎                           | 52.8MB 6.2MB/s eta 0:00:56     |████▍                           | 53.5MB 6.2MB/s eta 0:00:56     |████▌                           | 55.7MB 3.8MB/s eta 0:01:31     |████▊                           | 58.8MB 3.8MB/s eta 0:01:30     |████▉                           | 59.5MB 7.5MB/s eta 0:00:45     |████▉                           | 59.8MB 7.5MB/s eta 0:00:45     |█████                           | 61.1MB 7.5MB/s eta 0:00:45     |█████                           | 61.8MB 7.5MB/s eta 0:00:45     |█████▏                          | 63.4MB 7.5MB/s eta 0:00:45     |█████▏                          | 63.7MB 7.5MB/s eta 0:00:45     |█████▌                          | 67.1MB 4.9MB/s eta 0:01:07     |█████▌                          | 68.3MB 4.9MB/s eta 0:01:07     |█████▋                          | 69.5MB 4.9MB/s eta 0:01:07     |█████▊                          | 70.0MB 4.9MB/s eta 0:01:07     |█████▊                          | 70.9MB 4.9MB/s eta 0:01:07     |██████                          | 72.9MB 8.2MB/s eta 0:00:40     |██████                          | 74.0MB 8.2MB/s eta 0:00:40     |██████▏                         | 75.7MB 8.2MB/s eta 0:00:39     |██████▏                         | 76.3MB 8.2MB/s eta 0:00:39     |██████▏                         | 76.6MB 8.2MB/s eta 0:00:39     |██████▏                         | 76.6MB 8.2MB/s eta 0:00:39     |██████▎                         | 77.2MB 8.2MB/s eta 0:00:39     |██████▌                         | 80.7MB 4.9MB/s eta 0:01:04     |██████▊                         | 83.1MB 4.9MB/s eta 0:01:04     |██████▉                         | 84.4MB 4.9MB/s eta 0:01:04     |███████                         | 85.0MB 4.9MB/s eta 0:01:04     |███████                         | 85.5MB 4.9MB/s eta 0:01:04     |███████                         | 86.3MB 4.9MB/s eta 0:01:04     |███████                         | 86.5MB 4.9MB/s eta 0:01:04     |███████                         | 86.8MB 4.9MB/s eta 0:01:04     |███████                         | 87.1MB 4.9MB/s eta 0:01:03     |███████▏                        | 88.0MB 3.0MB/s eta 0:01:44     |███████▎                        | 89.6MB 3.0MB/s eta 0:01:43     |███████▎                        | 89.9MB 3.0MB/s eta 0:01:43     |███████▍                        | 90.7MB 3.0MB/s eta 0:01:43     |███████▌                        | 93.0MB 3.0MB/s eta 0:01:42     |███████▋                        | 93.4MB 3.0MB/s eta 0:01:42     |███████▋                        | 94.2MB 2.6MB/s eta 0:01:56     |███████▊                        | 94.8MB 2.6MB/s eta 0:01:55     |███████▊                        | 95.0MB 2.6MB/s eta 0:01:55     |███████▊                        | 95.3MB 2.6MB/s eta 0:01:55     |███████▊                        | 95.6MB 2.6MB/s eta 0:01:55     |███████▉                        | 96.6MB 2.6MB/s eta 0:01:55     |███████▉                        | 97.0MB 2.6MB/s eta 0:01:55     |████████                        | 97.6MB 2.6MB/s eta 0:01:54     |████████                        | 97.9MB 2.6MB/s eta 0:01:54     |████████                        | 98.5MB 2.6MB/s eta 0:01:54     |████████                        | 99.2MB 7.4MB/s eta 0:00:40     |████████▎                       | 102.0MB 7.4MB/s eta 0:00:40     |████████▎                       | 102.6MB 7.4MB/s eta 0:00:40     |████████▍                       | 103.0MB 7.4MB/s eta 0:00:40     |████████▌                       | 105.3MB 3.8MB/s eta 0:01:17     |████████▋                       | 106.7MB 3.8MB/s eta 0:01:16     |████████▊                       | 107.3MB 3.8MB/s eta 0:01:16     |████████▊                       | 107.8MB 3.8MB/s eta 0:01:16     |████████▉                       | 109.1MB 3.8MB/s eta 0:01:16     |█████████                       | 110.4MB 2.0MB/s eta 0:02:21     |█████████                       | 111.9MB 2.0MB/s eta 0:02:20     |█████████▏                      | 112.5MB 2.0MB/s eta 0:02:20     |█████████▎                      | 114.0MB 2.0MB/s eta 0:02:19     |█████████▍                      | 115.3MB 2.0MB/s eta 0:02:19     |█████████▍                      | 116.2MB 4.5MB/s eta 0:01:03     |█████████▌                      | 116.8MB 4.5MB/s eta 0:01:03     |█████████▋                      | 117.9MB 4.5MB/s eta 0:01:02     |█████████▊                      | 119.3MB 4.5MB/s eta 0:01:02     |█████████▉                      | 121.5MB 4.5MB/s eta 0:01:02     |██████████                      | 122.7MB 9.0MB/s eta 0:00:31     |██████████                      | 123.0MB 9.0MB/s eta 0:00:31\r",
      "\u001b[K     |██████████                      | 123.0MB 9.0MB/s eta 0:00:31\r",
      "\u001b[K     |██████████                      | 123.0MB 9.0MB/s eta 0:00:31\r",
      "\u001b[K     |██████████                      | 123.0MB 9.0MB/s eta 0:00:31\r",
      "\u001b[K     |██████████                      | 123.0MB 9.0MB/s eta 0:00:31\r",
      "\u001b[K     |██████████                      | 123.0MB 9.0MB/s eta 0:00:31\r",
      "\u001b[K     |██████████                      | 123.0MB 9.0MB/s eta 0:00:31\r",
      "\u001b[K     |██████████                      | 123.0MB 9.0MB/s eta 0:00:31\r",
      "\u001b[K     |██████████                      | 123.0MB 9.0MB/s eta 0:00:31\r",
      "\u001b[K     |██████████                      | 123.0MB 9.0MB/s eta 0:00:31\r",
      "\u001b[K     |██████████                      | 123.1MB 9.0MB/s eta 0:00:31\r",
      "\u001b[K     |██████████                      | 123.1MB 9.0MB/s eta 0:00:31\r",
      "\u001b[K     |██████████                      | 123.1MB 9.0MB/s eta 0:00:31\r",
      "\u001b[K     |██████████                      | 123.1MB 9.0MB/s eta 0:00:31\r",
      "\u001b[K     |██████████                      | 123.1MB 9.0MB/s eta 0:00:31\r",
      "\u001b[K     |██████████                      | 123.1MB 9.0MB/s eta 0:00:31\r",
      "\u001b[K     |██████████                      | 123.1MB 9.0MB/s eta 0:00:31\r",
      "\u001b[K     |██████████                      | 123.1MB 9.0MB/s eta 0:00:31\r",
      "\u001b[K     |██████████                      | 123.1MB 9.0MB/s eta 0:00:31\r",
      "\u001b[K     |██████████                      | 123.1MB 9.0MB/s eta 0:00:31\r",
      "\u001b[K     |██████████                      | 123.2MB 9.0MB/s eta 0:00:31\r",
      "\u001b[K     |██████████                      | 123.2MB 9.0MB/s eta 0:00:31"
     ]
    },
    {
     "name": "stdout",
     "output_type": "stream",
     "text": [
      "\u001b[K     |█████████████████████████▊      | 316.5MB 8.2MB/s eta 0:00:105    |██████████                      | 124.3MB 9.0MB/s eta 0:00:31     |██████████▏                     | 124.7MB 9.0MB/s eta 0:00:31     |██████████▏                     | 125.0MB 9.0MB/s eta 0:00:31     |██████████▏                     | 125.2MB 9.0MB/s eta 0:00:31     |██████████▎                     | 126.1MB 9.0MB/s eta 0:00:30     |██████████▋                     | 130.5MB 3.9MB/s eta 0:01:09     |██████████▉                     | 133.5MB 7.0MB/s eta 0:00:38     |███████████                     | 134.6MB 7.0MB/s eta 0:00:37     |███████████▏                    | 137.4MB 7.0MB/s eta 0:00:37     |███████████▍                    | 140.3MB 4.4MB/s eta 0:00:58     |███████████▋                    | 143.0MB 4.4MB/s eta 0:00:57     |███████████▉                    | 146.0MB 4.5MB/s eta 0:00:55     |███████████▉                    | 146.4MB 4.5MB/s eta 0:00:55     |████████████▌                   | 153.5MB 585kB/s eta 0:06:52     |████████████▌                   | 154.1MB 585kB/s eta 0:06:51     |████████████▌                   | 154.4MB 585kB/s eta 0:06:50     |████████████▋                   | 155.2MB 585kB/s eta 0:06:49     |████████████▋                   | 156.0MB 585kB/s eta 0:06:47     |████████████▉                   | 158.8MB 585kB/s eta 0:06:43     |█████████████                   | 161.3MB 4.2MB/s eta 0:00:57     |█████████████▏                  | 162.7MB 4.2MB/s eta 0:00:56     |█████████████▎                  | 163.3MB 4.2MB/s eta 0:00:56     |█████████████▌                  | 165.9MB 5.3MB/s eta 0:00:43     |█████████████▋                  | 168.1MB 5.3MB/s eta 0:00:43     |█████████████▉                  | 170.8MB 37.2MB/s eta 0:00:07     |██████████████                  | 171.4MB 37.2MB/s eta 0:00:06     |██████████████                  | 172.8MB 37.2MB/s eta 0:00:06     |██████████████                  | 173.1MB 37.2MB/s eta 0:00:06     |██████████████▏                 | 174.6MB 37.2MB/s eta 0:00:06     |██████████████▏                 | 174.9MB 37.2MB/s eta 0:00:06     |██████████████▎                 | 175.3MB 8.0MB/s eta 0:00:28     |██████████████▎                 | 176.4MB 8.0MB/s eta 0:00:28     |██████████████▍                 | 176.9MB 8.0MB/s eta 0:00:28     |██████████████▍                 | 177.4MB 8.0MB/s eta 0:00:28     |██████████████▍                 | 177.8MB 8.0MB/s eta 0:00:28     |██████████████▌                 | 179.0MB 8.0MB/s eta 0:00:27     |██████████████▊                 | 181.3MB 6.3MB/s eta 0:00:34     |██████████████▊                 | 181.5MB 6.3MB/s eta 0:00:34     |██████████████▉                 | 182.9MB 6.3MB/s eta 0:00:34     |███████████████                 | 184.2MB 6.3MB/s eta 0:00:34     |███████████████▍                | 189.7MB 5.3MB/s eta 0:00:39     |███████████████▍                | 190.2MB 5.3MB/s eta 0:00:39     |███████████████▌                | 191.5MB 5.3MB/s eta 0:00:39     |███████████████▊                | 193.8MB 7.5MB/s eta 0:00:27     |███████████████▊                | 194.2MB 7.5MB/s eta 0:00:27     |███████████████▉                | 195.3MB 7.5MB/s eta 0:00:27     |███████████████▉                | 195.7MB 7.5MB/s eta 0:00:27     |████████████████                | 196.2MB 7.5MB/s eta 0:00:27     |████████████████▏               | 198.7MB 2.1MB/s eta 0:01:33     |████████████████▎               | 200.5MB 2.9MB/s eta 0:01:08     |████████████████▎               | 201.0MB 2.9MB/s eta 0:01:08     |████████████████▍               | 201.3MB 2.9MB/s eta 0:01:08     |████████████████▌               | 202.8MB 2.9MB/s eta 0:01:08     |████████████████▊               | 205.4MB 2.9MB/s eta 0:01:07     |████████████████▊               | 205.8MB 2.1MB/s eta 0:01:29     |████████████████▊               | 206.2MB 2.1MB/s eta 0:01:28     |████████████████▉               | 208.1MB 2.1MB/s eta 0:01:28     |█████████████████               | 209.3MB 2.1MB/s eta 0:01:27     |█████████████████▏              | 211.8MB 4.9MB/s eta 0:00:37     |█████████████████▏              | 212.2MB 4.9MB/s eta 0:00:37     |█████████████████▎              | 213.0MB 4.9MB/s eta 0:00:37     |█████████████████▍              | 214.7MB 4.9MB/s eta 0:00:37     |█████████████████▌              | 215.8MB 4.9MB/s eta 0:00:37     |█████████████████▋              | 216.9MB 4.2MB/s eta 0:00:43     |█████████████████▉              | 220.0MB 4.2MB/s eta 0:00:42     |██████████████████              | 220.5MB 4.2MB/s eta 0:00:42     |██████████████████              | 221.3MB 4.2MB/s eta 0:00:42     |██████████████████              | 221.7MB 4.2MB/s eta 0:00:42     |██████████████████▋             | 229.3MB 5.0MB/s eta 0:00:33     |██████████████████▊             | 230.4MB 2.8MB/s eta 0:00:59     |██████████████████▉             | 232.2MB 2.8MB/s eta 0:00:58     |███████████████████             | 233.9MB 2.8MB/s eta 0:00:58     |███████████████████▏            | 236.0MB 2.6MB/s eta 0:01:02     |███████████████████▏            | 236.8MB 2.6MB/s eta 0:01:02     |███████████████████▎            | 237.1MB 2.6MB/s eta 0:01:02     |███████████████████▍            | 238.5MB 2.6MB/s eta 0:01:01     |████████████████████            | 246.3MB 4.3MB/s eta 0:00:35     |████████████████████            | 247.6MB 4.5MB/s eta 0:00:33     |████████████████████▏           | 248.0MB 4.5MB/s eta 0:00:33     |████████████████████▍           | 251.5MB 4.5MB/s eta 0:00:32     |████████████████████▍           | 251.8MB 4.5MB/s eta 0:00:32     |████████████████████▋           | 254.2MB 5.0MB/s eta 0:00:29     |████████████████████▊           | 255.3MB 5.0MB/s eta 0:00:28     |█████████████████████           | 258.5MB 5.0MB/s eta 0:00:28     |█████████████████████           | 259.2MB 5.0MB/s eta 0:00:28     |█████████████████████           | 260.0MB 21.5MB/s eta 0:00:07     |█████████████████████▎          | 261.7MB 21.5MB/s eta 0:00:07     |█████████████████████▎          | 262.1MB 21.5MB/s eta 0:00:07     |█████████████████████▍          | 263.4MB 21.5MB/s eta 0:00:07     |█████████████████████▌          | 265.3MB 21.5MB/s eta 0:00:06     |█████████████████████▊          | 267.9MB 5.0MB/s eta 0:00:26     |█████████████████████▊          | 268.3MB 5.0MB/s eta 0:00:26     |██████████████████████          | 270.0MB 5.0MB/s eta 0:00:25     |██████████████████████          | 271.1MB 5.0MB/s eta 0:00:25     |██████████████████████          | 271.7MB 5.0MB/s eta 0:00:25     |██████████████████████          | 272.2MB 5.0MB/s eta 0:00:25     |██████████████████████▎         | 274.3MB 1.7MB/s eta 0:01:09     |██████████████████████▎         | 274.7MB 1.7MB/s eta 0:01:09     |██████████████████████▎         | 275.1MB 1.7MB/s eta 0:01:09     |██████████████████████▍         | 275.8MB 1.7MB/s eta 0:01:08     |██████████████████████▋         | 278.8MB 1.7MB/s eta 0:01:07     |██████████████████████▊         | 280.1MB 2.6MB/s eta 0:00:45     |███████████████████████         | 283.0MB 2.6MB/s eta 0:00:43     |███████████████████████         | 284.5MB 2.6MB/s eta 0:00:43     |███████████████████████▏        | 285.3MB 8.2MB/s eta 0:00:143MB 8.2MB/s eta 0:00:14     |███████████████████████▍        | 287.8MB 8.2MB/s eta 0:00:14     |████████████████████████        | 294.6MB 4.1MB/s eta 0:00:25     |████████████████████████▏       | 297.9MB 3.8MB/s eta 0:00:26     |████████████████████████▎       | 299.8MB 3.8MB/s eta 0:00:25     |████████████████████████▊       | 305.1MB 19.4MB/s eta 0:00:05     |████████████████████████▉       | 305.7MB 19.4MB/s eta 0:00:05     |█████████████████████████       | 307.8MB 19.4MB/s eta 0:00:05     |█████████████████████████       | 309.1MB 19.4MB/s eta 0:00:05     |█████████████████████████▏      | 309.9MB 4.0MB/s eta 0:00:22     |█████████████████████████▎      | 310.9MB 4.0MB/s eta 0:00:21     |█████████████████████████▎      | 311.5MB 4.0MB/s eta 0:00:21     |█████████████████████████▍      | 312.5MB 4.0MB/s eta 0:00:21     |█████████████████████████▍      | 312.9MB 4.0MB/s eta 0:00:21     |█████████████████████████▍      | 313.2MB 4.0MB/s eta 0:00:21     |█████████████████████████▌      | 314.4MB 4.0MB/s eta 0:00:20     |█████████████████████████▋      | 316.0MB 4.0MB/s eta 0:00:20"
     ]
    },
    {
     "name": "stdout",
     "output_type": "stream",
     "text": [
      "\u001b[K     |████████████████████████████████| 394.3MB 51kB/s  eta 0:00:01     |█████████████████████████▊      | 317.1MB 8.2MB/s eta 0:00:10     |█████████████████████████▉      | 318.0MB 8.2MB/s eta 0:00:10     |█████████████████████████▉      | 318.2MB 8.2MB/s eta 0:00:10     |██████████████████████████      | 319.8MB 8.2MB/s eta 0:00:10     |██████████████████████████      | 320.4MB 8.2MB/s eta 0:00:10     |██████████████████████████▏     | 321.8MB 8.2MB/s eta 0:00:09     |██████████████████████████▎     | 323.2MB 3.9MB/s eta 0:00:19     |██████████████████████████▎     | 323.5MB 3.9MB/s eta 0:00:19     |██████████████████████████▍     | 324.8MB 3.9MB/s eta 0:00:18     |██████████████████████████▌     | 326.0MB 3.9MB/s eta 0:00:18     |██████████████████████████▋     | 328.4MB 3.9MB/s eta 0:00:17     |██████████████████████████▋     | 328.5MB 3.9MB/s eta 0:00:17   | 335.4MB 8.9MB/s eta 0:00:07     |███████████████████████████▌    | 338.3MB 8.9MB/s eta 0:00:07     |███████████████████████████▌    | 338.9MB 8.9MB/s eta 0:00:07     |███████████████████████████▋    | 339.8MB 8.9MB/s eta 0:00:07     |███████████████████████████▋    | 340.2MB 1.9MB/s eta 0:00:30     |███████████████████████████▊    | 341.4MB 1.9MB/s eta 0:00:29     |████████████████████████████    | 345.0MB 1.9MB/s eta 0:00:27     |████████████████████████████    | 345.4MB 1.9MB/s eta 0:00:27     |████████████████████████████    | 345.6MB 1.9MB/s eta 0:00:27     |████████████████████████████▍   | 349.3MB 3.7MB/s eta 0:00:13     |████████████████████████████▍   | 350.2MB 3.7MB/s eta 0:00:12     |████████████████████████████▉   | 354.9MB 4.7MB/s eta 0:00:09     |█████████████████████████████▎  | 361.0MB 4.2MB/s eta 0:00:08     |█████████████████████████████▍  | 361.8MB 4.2MB/s eta 0:00:08     |█████████████████████████████▌  | 363.5MB 4.2MB/s eta 0:00:08     |█████████████████████████████▉  | 367.6MB 9.0MB/s eta 0:00:03     |██████████████████████████████  | 370.2MB 9.0MB/s eta 0:00:03     |██████████████████████████████▏ | 372.0MB 2.1MB/s eta 0:00:11     |██████████████████████████████▍ | 373.9MB 2.1MB/s eta 0:00:10     |██████████████████████████████▌ | 375.8MB 2.1MB/s eta 0:00:09     |██████████████████████████████▌ | 376.2MB 2.1MB/s eta 0:00:09     |██████████████████████████████▊ | 379.1MB 5.5MB/s eta 0:00:03     |██████████████████████████████▉ | 380.1MB 5.5MB/s eta 0:00:03     |███████████████████████████████ | 382.2MB 5.5MB/s eta 0:00:034.7MB 4.5MB/s eta 0:00:03     |███████████████████████████████▍| 386.2MB 4.5MB/s eta 0:00:02     |███████████████████████████████▍| 386.7MB 4.5MB/s eta 0:00:02     |███████████████████████████████▍| 387.0MB 4.5MB/s eta 0:00:02     |███████████████████████████████▌| 388.8MB 4.5MB/s eta 0:00:02     |███████████████████████████████▉| 392.5MB 3.0MB/s eta 0:00:01     |████████████████████████████████| 393.6MB 3.0MB/s eta 0:00:01     |████████████████████████████████| 394.0MB 3.0MB/s eta 0:00:01\n",
      "\u001b[?25hCollecting numpy~=1.19.2 (from tensorflow)\n",
      "\u001b[?25l  Downloading https://files.pythonhosted.org/packages/08/d6/a6aaa29fea945bc6c61d11f6e0697b325ff7446de5ffd62c2fa02f627048/numpy-1.19.5-cp37-cp37m-manylinux2010_x86_64.whl (14.8MB)\n",
      "\u001b[K     |████████████████████████████████| 14.8MB 3.0MB/s eta 0:00:01    |████                            | 1.9MB 6.4MB/s eta 0:00:03     |██████▌                         | 3.0MB 6.4MB/s eta 0:00:02     |█████████▉                      | 4.6MB 383kB/s eta 0:00:27     |█████████████████████           | 9.8MB 383kB/s eta 0:00:14     |████████████████████████        | 11.1MB 3.0MB/s eta 0:00:02     |█████████████████████████▎      | 11.7MB 3.0MB/s eta 0:00:02     |██████████████████████████      | 12.0MB 3.0MB/s eta 0:00:01     |██████████████████████████▊     | 12.4MB 3.0MB/s eta 0:00:01     |███████████████████████████████▌| 14.6MB 3.0MB/s eta 0:00:01\n",
      "\u001b[?25hCollecting tensorboard~=2.4 (from tensorflow)\n",
      "\u001b[?25l  Downloading https://files.pythonhosted.org/packages/64/21/eebd23060763fedeefb78bc2b286e00fa1d8abda6f70efa2ee08c28af0d4/tensorboard-2.4.1-py3-none-any.whl (10.6MB)\n",
      "\u001b[K     |████████████████████████████████| 10.6MB 8.9MB/s eta 0:00:01    |█████▊                          | 1.9MB 4.2MB/s eta 0:00:03     |█████████▋                      | 3.2MB 4.2MB/s eta 0:00:02     |██████████████████████          | 7.3MB 8.9MB/s eta 0:00:01     |███████████████████████▋        | 7.9MB 8.9MB/s eta 0:00:01     |████████████████████████████▉   | 9.6MB 8.9MB/s eta 0:00:01     |███████████████████████████████▏| 10.3MB 8.9MB/s eta 0:00:01\n",
      "\u001b[?25hCollecting wheel~=0.35 (from tensorflow)\n",
      "  Downloading https://files.pythonhosted.org/packages/65/63/39d04c74222770ed1589c0eaba06c05891801219272420b40311cd60c880/wheel-0.36.2-py2.py3-none-any.whl\n",
      "Collecting opt-einsum~=3.3.0 (from tensorflow)\n",
      "\u001b[?25l  Downloading https://files.pythonhosted.org/packages/bc/19/404708a7e54ad2798907210462fd950c3442ea51acc8790f3da48d2bee8b/opt_einsum-3.3.0-py3-none-any.whl (65kB)\n",
      "\u001b[K     |████████████████████████████████| 71kB 4.1MB/s  eta 0:00:01\n",
      "\u001b[?25hCollecting google-pasta~=0.2 (from tensorflow)\n",
      "\u001b[?25l  Downloading https://files.pythonhosted.org/packages/a3/de/c648ef6835192e6e2cc03f40b19eeda4382c49b5bafb43d88b931c4c74ac/google_pasta-0.2.0-py3-none-any.whl (57kB)\n",
      "\u001b[K     |████████████████████████████████| 61kB 17.8MB/s eta 0:00:01\n",
      "\u001b[?25hCollecting gast==0.3.3 (from tensorflow)\n",
      "  Downloading https://files.pythonhosted.org/packages/d6/84/759f5dd23fec8ba71952d97bcc7e2c9d7d63bdc582421f3cd4be845f0c98/gast-0.3.3-py2.py3-none-any.whl\n",
      "Collecting tensorflow-estimator<2.5.0,>=2.4.0 (from tensorflow)\n",
      "\u001b[?25l  Downloading https://files.pythonhosted.org/packages/74/7e/622d9849abf3afb81e482ffc170758742e392ee129ce1540611199a59237/tensorflow_estimator-2.4.0-py2.py3-none-any.whl (462kB)\n",
      "\u001b[K     |████████████████████████████████| 471kB 9.2MB/s eta 0:00:01\n",
      "\u001b[?25hCollecting protobuf>=3.9.2 (from tensorflow)\n",
      "\u001b[?25l  Downloading https://files.pythonhosted.org/packages/7d/cc/abf8e30629db7a8b15efb79d4c87e235895d2c636ce7a4ac625cfc816f07/protobuf-3.15.6-cp37-cp37m-manylinux1_x86_64.whl (1.0MB)\n",
      "\u001b[K     |████████████████████████████████| 1.0MB 6.1MB/s eta 0:00:01\n",
      "\u001b[?25hCollecting typing-extensions~=3.7.4 (from tensorflow)\n",
      "  Downloading https://files.pythonhosted.org/packages/60/7a/e881b5abb54db0e6e671ab088d079c57ce54e8a01a3ca443f561ccadb37e/typing_extensions-3.7.4.3-py3-none-any.whl\n",
      "Collecting six~=1.15.0 (from tensorflow)\n",
      "  Downloading https://files.pythonhosted.org/packages/ee/ff/48bde5c0f013094d729fe4b0316ba2a24774b3ff1c52d924a8a4cb04078a/six-1.15.0-py2.py3-none-any.whl\n",
      "Collecting flatbuffers~=1.12.0 (from tensorflow)\n",
      "  Downloading https://files.pythonhosted.org/packages/eb/26/712e578c5f14e26ae3314c39a1bdc4eb2ec2f4ddc89b708cf8e0a0d20423/flatbuffers-1.12-py2.py3-none-any.whl\n",
      "Collecting absl-py~=0.10 (from tensorflow)\n",
      "\u001b[?25l  Downloading https://files.pythonhosted.org/packages/92/c9/ef0fae29182d7a867d203f0eff8296b60da92098cc41db33a434f4be84bf/absl_py-0.12.0-py3-none-any.whl (129kB)\n",
      "\u001b[K     |████████████████████████████████| 133kB 8.8MB/s eta 0:00:01\n",
      "\u001b[?25hCollecting keras-preprocessing~=1.1.2 (from tensorflow)\n",
      "\u001b[?25l  Downloading https://files.pythonhosted.org/packages/79/4c/7c3275a01e12ef9368a892926ab932b33bb13d55794881e3573482b378a7/Keras_Preprocessing-1.1.2-py2.py3-none-any.whl (42kB)\n",
      "\u001b[K     |████████████████████████████████| 51kB 7.7MB/s  eta 0:00:01\n",
      "\u001b[?25hCollecting wrapt~=1.12.1 (from tensorflow)\n",
      "  Downloading https://files.pythonhosted.org/packages/82/f7/e43cefbe88c5fd371f4cf0cf5eb3feccd07515af9fd6cf7dbf1d1793a797/wrapt-1.12.1.tar.gz\n",
      "Collecting grpcio~=1.32.0 (from tensorflow)\n",
      "\u001b[?25l  Downloading https://files.pythonhosted.org/packages/99/da/8dc10aab771e01937aaf10cd28d1fcf861bca48c570ee6a5cee00f7be111/grpcio-1.32.0-cp37-cp37m-manylinux2010_x86_64.whl (3.7MB)\n",
      "\u001b[K     |████████████████████████████████| 3.7MB 4.2MB/s eta 0:00:01     |██████████████████████████████▊ | 3.5MB 4.2MB/s eta 0:00:01\n",
      "\u001b[?25hCollecting h5py~=2.10.0 (from tensorflow)\n",
      "\u001b[?25l  Downloading https://files.pythonhosted.org/packages/3f/c0/abde58b837e066bca19a3f7332d9d0493521d7dd6b48248451a9e3fe2214/h5py-2.10.0-cp37-cp37m-manylinux1_x86_64.whl (2.9MB)\n"
     ]
    },
    {
     "name": "stdout",
     "output_type": "stream",
     "text": [
      "\u001b[K     |████████████████████████████████| 2.9MB 8.4MB/s eta 0:00:01     |████████▌                       | 757kB 8.4MB/s eta 0:00:01\n",
      "\u001b[?25hCollecting astunparse~=1.6.3 (from tensorflow)\n",
      "  Downloading https://files.pythonhosted.org/packages/2b/03/13dde6512ad7b4557eb792fbcf0c653af6076b81e5941d36ec61f7ce6028/astunparse-1.6.3-py2.py3-none-any.whl\n",
      "Collecting termcolor~=1.1.0 (from tensorflow)\n",
      "  Downloading https://files.pythonhosted.org/packages/8a/48/a76be51647d0eb9f10e2a4511bf3ffb8cc1e6b14e9e4fab46173aa79f981/termcolor-1.1.0.tar.gz\n",
      "Collecting tensorboard-plugin-wit>=1.6.0 (from tensorboard~=2.4->tensorflow)\n",
      "\u001b[?25l  Downloading https://files.pythonhosted.org/packages/1a/c1/499e600ba0c618b451cd9c425ae1c177249940a2086316552fee7d86c954/tensorboard_plugin_wit-1.8.0-py3-none-any.whl (781kB)\n",
      "\u001b[K     |████████████████████████████████| 788kB 2.2MB/s eta 0:00:01\n",
      "\u001b[?25hCollecting markdown>=2.6.8 (from tensorboard~=2.4->tensorflow)\n",
      "\u001b[?25l  Downloading https://files.pythonhosted.org/packages/6e/33/1ae0f71395e618d6140fbbc9587cc3156591f748226075e0f7d6f9176522/Markdown-3.3.4-py3-none-any.whl (97kB)\n",
      "\u001b[K     |████████████████████████████████| 102kB 3.2MB/s ta 0:00:01\n",
      "\u001b[?25hCollecting werkzeug>=0.11.15 (from tensorboard~=2.4->tensorflow)\n",
      "\u001b[?25l  Downloading https://files.pythonhosted.org/packages/cc/94/5f7079a0e00bd6863ef8f1da638721e9da21e5bacee597595b318f71d62e/Werkzeug-1.0.1-py2.py3-none-any.whl (298kB)\n",
      "\u001b[K     |████████████████████████████████| 307kB 7.9MB/s eta 0:00:01\n",
      "\u001b[?25hCollecting requests<3,>=2.21.0 (from tensorboard~=2.4->tensorflow)\n",
      "\u001b[?25l  Downloading https://files.pythonhosted.org/packages/29/c1/24814557f1d22c56d50280771a17307e6bf87b70727d975fd6b2ce6b014a/requests-2.25.1-py2.py3-none-any.whl (61kB)\n",
      "\u001b[K     |████████████████████████████████| 61kB 8.0MB/s eta 0:00:011\n",
      "\u001b[?25hCollecting google-auth-oauthlib<0.5,>=0.4.1 (from tensorboard~=2.4->tensorflow)\n",
      "  Downloading https://files.pythonhosted.org/packages/cb/f5/6e656a95ca0b432c5f090239962f618c3b45447037d21e1c049123521f53/google_auth_oauthlib-0.4.3-py2.py3-none-any.whl\n",
      "Collecting google-auth<2,>=1.6.3 (from tensorboard~=2.4->tensorflow)\n",
      "\u001b[?25l  Downloading https://files.pythonhosted.org/packages/b5/ef/13d3b65c41ddde1a57e89de6adfc610093d109ebd472545a33e76dcdd8bf/google_auth-1.28.0-py2.py3-none-any.whl (136kB)\n",
      "\u001b[K     |████████████████████████████████| 143kB 8.6MB/s eta 0:00:01\n",
      "\u001b[?25hRequirement already satisfied: setuptools>=41.0.0 in /snap/jupyter/6/lib/python3.7/site-packages (from tensorboard~=2.4->tensorflow) (41.0.1)\n",
      "Collecting importlib-metadata; python_version < \"3.8\" (from markdown>=2.6.8->tensorboard~=2.4->tensorflow)\n",
      "  Downloading https://files.pythonhosted.org/packages/80/5d/0bbca82b16e01313cf0343167d4cfb90f6fade747cd4d10d368094b2883a/importlib_metadata-3.7.3-py3-none-any.whl\n",
      "Collecting urllib3<1.27,>=1.21.1 (from requests<3,>=2.21.0->tensorboard~=2.4->tensorflow)\n",
      "\u001b[?25l  Downloading https://files.pythonhosted.org/packages/09/c6/d3e3abe5b4f4f16cf0dfc9240ab7ce10c2baa0e268989a4e3ec19e90c84e/urllib3-1.26.4-py2.py3-none-any.whl (153kB)\n",
      "\u001b[K     |████████████████████████████████| 153kB 4.5MB/s eta 0:00:01\n",
      "\u001b[?25hCollecting idna<3,>=2.5 (from requests<3,>=2.21.0->tensorboard~=2.4->tensorflow)\n",
      "\u001b[?25l  Downloading https://files.pythonhosted.org/packages/a2/38/928ddce2273eaa564f6f50de919327bf3a00f091b5baba8dfa9460f3a8a8/idna-2.10-py2.py3-none-any.whl (58kB)\n",
      "\u001b[K     |████████████████████████████████| 61kB 6.1MB/s eta 0:00:01\n",
      "\u001b[?25hCollecting chardet<5,>=3.0.2 (from requests<3,>=2.21.0->tensorboard~=2.4->tensorflow)\n",
      "\u001b[?25l  Downloading https://files.pythonhosted.org/packages/19/c7/fa589626997dd07bd87d9269342ccb74b1720384a4d739a1872bd84fbe68/chardet-4.0.0-py2.py3-none-any.whl (178kB)\n",
      "\u001b[K     |████████████████████████████████| 184kB 1.6MB/s eta 0:00:01\n",
      "\u001b[?25hRequirement already satisfied: certifi>=2017.4.17 in /snap/jupyter/6/lib/python3.7/site-packages (from requests<3,>=2.21.0->tensorboard~=2.4->tensorflow) (2019.3.9)\n",
      "Collecting requests-oauthlib>=0.7.0 (from google-auth-oauthlib<0.5,>=0.4.1->tensorboard~=2.4->tensorflow)\n",
      "  Downloading https://files.pythonhosted.org/packages/a3/12/b92740d845ab62ea4edf04d2f4164d82532b5a0b03836d4d4e71c6f3d379/requests_oauthlib-1.3.0-py2.py3-none-any.whl\n",
      "Collecting pyasn1-modules>=0.2.1 (from google-auth<2,>=1.6.3->tensorboard~=2.4->tensorflow)\n",
      "\u001b[?25l  Downloading https://files.pythonhosted.org/packages/95/de/214830a981892a3e286c3794f41ae67a4495df1108c3da8a9f62159b9a9d/pyasn1_modules-0.2.8-py2.py3-none-any.whl (155kB)\n",
      "\u001b[K     |████████████████████████████████| 163kB 7.8MB/s eta 0:00:01\n",
      "\u001b[?25hCollecting rsa<5,>=3.1.4; python_version >= \"3.6\" (from google-auth<2,>=1.6.3->tensorboard~=2.4->tensorflow)\n",
      "  Downloading https://files.pythonhosted.org/packages/e9/93/0c0f002031f18b53af7a6166103c02b9c0667be528944137cc954ec921b3/rsa-4.7.2-py3-none-any.whl\n",
      "Collecting cachetools<5.0,>=2.0.0 (from google-auth<2,>=1.6.3->tensorboard~=2.4->tensorflow)\n",
      "  Downloading https://files.pythonhosted.org/packages/bb/72/8df2e0dc991f1a1d2c6869404e7622e8ee50d80bff357dbb57c3df70305b/cachetools-4.2.1-py3-none-any.whl\n",
      "Collecting zipp>=0.5 (from importlib-metadata; python_version < \"3.8\"->markdown>=2.6.8->tensorboard~=2.4->tensorflow)\n",
      "  Downloading https://files.pythonhosted.org/packages/0f/8c/715c54e9e34c0c4820f616a913a7de3337d0cd79074dd1bed4dd840f16ae/zipp-3.4.1-py3-none-any.whl\n",
      "Collecting oauthlib>=3.0.0 (from requests-oauthlib>=0.7.0->google-auth-oauthlib<0.5,>=0.4.1->tensorboard~=2.4->tensorflow)\n",
      "\u001b[?25l  Downloading https://files.pythonhosted.org/packages/05/57/ce2e7a8fa7c0afb54a0581b14a65b56e62b5759dbc98e80627142b8a3704/oauthlib-3.1.0-py2.py3-none-any.whl (147kB)\n",
      "\u001b[K     |████████████████████████████████| 153kB 5.9MB/s eta 0:00:01\n",
      "\u001b[?25hCollecting pyasn1<0.5.0,>=0.4.6 (from pyasn1-modules>=0.2.1->google-auth<2,>=1.6.3->tensorboard~=2.4->tensorflow)\n",
      "\u001b[?25l  Downloading https://files.pythonhosted.org/packages/62/1e/a94a8d635fa3ce4cfc7f506003548d0a2447ae76fd5ca53932970fe3053f/pyasn1-0.4.8-py2.py3-none-any.whl (77kB)\n",
      "\u001b[K     |████████████████████████████████| 81kB 6.4MB/s eta 0:00:01\n",
      "\u001b[?25hBuilding wheels for collected packages: wrapt, termcolor\n",
      "  Building wheel for wrapt (setup.py) ... \u001b[?25ldone\n",
      "\u001b[?25h  Stored in directory: /home/arpon/snap/jupyter/6/.cache/pip/wheels/b1/c2/ed/d62208260edbd3fa7156545c00ef966f45f2063d0a84f8208a\n",
      "  Building wheel for termcolor (setup.py) ... \u001b[?25ldone\n",
      "\u001b[?25h  Stored in directory: /home/arpon/snap/jupyter/6/.cache/pip/wheels/7c/06/54/bc84598ba1daf8f970247f550b175aaaee85f68b4b0c5ab2c6\n",
      "Successfully built wrapt termcolor\n",
      "Installing collected packages: numpy, wheel, six, absl-py, tensorboard-plugin-wit, grpcio, zipp, typing-extensions, importlib-metadata, markdown, protobuf, werkzeug, urllib3, idna, chardet, requests, oauthlib, requests-oauthlib, pyasn1, pyasn1-modules, rsa, cachetools, google-auth, google-auth-oauthlib, tensorboard, opt-einsum, google-pasta, gast, tensorflow-estimator, flatbuffers, keras-preprocessing, wrapt, h5py, astunparse, termcolor, tensorflow\n",
      "  Found existing installation: numpy 1.20.1\n",
      "    Uninstalling numpy-1.20.1:\n",
      "      Successfully uninstalled numpy-1.20.1\n",
      "Successfully installed absl-py-0.12.0 astunparse-1.6.3 cachetools-4.2.1 chardet-4.0.0 flatbuffers-1.12 gast-0.3.3 google-auth-1.28.0 google-auth-oauthlib-0.4.3 google-pasta-0.2.0 grpcio-1.32.0 h5py-2.10.0 idna-2.10 importlib-metadata-3.7.3 keras-preprocessing-1.1.2 markdown-3.3.4 numpy-1.19.5 oauthlib-3.1.0 opt-einsum-3.3.0 protobuf-3.15.6 pyasn1-0.4.8 pyasn1-modules-0.2.8 requests-2.25.1 requests-oauthlib-1.3.0 rsa-4.7.2 six-1.15.0 tensorboard-2.4.1 tensorboard-plugin-wit-1.8.0 tensorflow-2.4.1 tensorflow-estimator-2.4.0 termcolor-1.1.0 typing-extensions-3.7.4.3 urllib3-1.26.4 werkzeug-1.0.1 wheel-0.36.2 wrapt-1.12.1 zipp-3.4.1\n"
     ]
    }
   ],
   "source": [
    "! python -m pip install numpy\n",
    "! python -m pip install pandas\n",
    "! python -m pip install matplotlib\n",
    "! python -m pip install scipy\n",
    "! python -m pip install scikit-learn\n",
    "! python -m pip install tensorflow"
   ]
  },
  {
   "cell_type": "markdown",
   "metadata": {},
   "source": [
    "Your first task is very simple. Create a string to store your name and then append your favorite number to it. If you don't know how to get started with python basic commands, search for w3school python tutorial and have a look at them."
   ]
  },
  {
   "cell_type": "code",
   "execution_count": 6,
   "metadata": {},
   "outputs": [
    {
     "name": "stdout",
     "output_type": "stream",
     "text": [
      "Arpon Basu1008\n"
     ]
    }
   ],
   "source": [
    "my_name = \"Arpon Basu\"\n",
    "my_fav_number = \"1008\"\n",
    "my_name = my_name + my_fav_number\n",
    "print(my_name)"
   ]
  },
  {
   "cell_type": "markdown",
   "metadata": {},
   "source": [
    "Implement a python function Mult(X,Y) that takes input 2 matrices X and Y and calculates their product (Use brute force looping method)."
   ]
  },
  {
   "cell_type": "code",
   "execution_count": 2,
   "metadata": {},
   "outputs": [
    {
     "name": "stdout",
     "output_type": "stream",
     "text": [
      "6 16 \n",
      "7 18 \n"
     ]
    }
   ],
   "source": [
    "def Mult(m1, m2, X,\n",
    "             n1, n2, Y):\n",
    " \n",
    "    result = [[0 for x in range(n2)]\n",
    "              for y in range (m1)]\n",
    "     \n",
    "    for i in range(m1):\n",
    "        for j in range(n2):\n",
    "            result[i][j] = 0\n",
    "            for x in range(m2):           \n",
    "                result[i][j] += (X[i][x] *\n",
    "                              Y[x][j])\n",
    "            \n",
    "    for i in range(m1):\n",
    "        for j in range(n2):     \n",
    "            print (result[i][j],\n",
    "                   end = \" \")       \n",
    "        print ()\n",
    " \n",
    "# Driver code\n",
    "if __name__ == \"__main__\":\n",
    "   \n",
    "    X = [[2, 4], [3, 4]]\n",
    "    Y = [[1, 2], [1, 3]]\n",
    "    m1, m2, n1, n2 = 2, 2, 2, 2\n",
    "   \n",
    "    \n",
    "    Mult(m1, m2, X,\n",
    "             n1, n2, Y)"
   ]
  },
  {
   "cell_type": "markdown",
   "metadata": {},
   "source": [
    "Create a square matrix of size 100X100 with random values from 0 to 1 using numpy(you have to import numpy at this stage) and multiply it with itself with the help of Mult(X,Y) function. Use time module to measure how long the multiplication takes. If you are stuck and don't know how to use and install new library/module Google about it."
   ]
  },
  {
   "cell_type": "code",
   "execution_count": 6,
   "metadata": {},
   "outputs": [
    {
     "name": "stdout",
     "output_type": "stream",
     "text": [
      "Runtime of the program is 0.9208135604858398\n"
     ]
    }
   ],
   "source": [
    "def Mult(m1, m2, X,\n",
    "             n1, n2, Y):\n",
    " \n",
    "    result = [[0 for x in range(n2)]\n",
    "              for y in range (m1)]\n",
    "     \n",
    "    for i in range(m1):\n",
    "        for j in range(n2):\n",
    "            result[i][j] = 0\n",
    "            for x in range(m2):           \n",
    "                result[i][j] += (X[i][x] *\n",
    "                              Y[x][j])\n",
    "            \n",
    "    \n",
    "import time\n",
    "import numpy as np\n",
    "\n",
    "X = np.random.rand(100,100)\n",
    "\n",
    "start = time.time()\n",
    "\n",
    "Mult(100, 100, X,\n",
    "             100, 100, X)\n",
    "\n",
    "end = time.time()\n",
    "print(f\"Runtime of the program is {end - start}\")"
   ]
  },
  {
   "cell_type": "markdown",
   "metadata": {},
   "source": [
    "Now search how to multiply two numpy arrays using a numpy utility function. dot() will be helpful. Similary measure the time that numpy takes to make this multiplication and compare it with above. "
   ]
  },
  {
   "cell_type": "code",
   "execution_count": 5,
   "metadata": {},
   "outputs": [
    {
     "name": "stdout",
     "output_type": "stream",
     "text": [
      "Runtime of the program is 0.005480766296386719\n"
     ]
    }
   ],
   "source": [
    "start = time.time()\n",
    "res = np.dot(X,X)\n",
    "end = time.time()\n",
    "print(f\"Runtime of the program is {end - start}\")"
   ]
  },
  {
   "cell_type": "markdown",
   "metadata": {},
   "source": [
    "It's now time to save and make a commit, similar to above and push the current state to github. Again same set of commands.\n",
    "\n",
    "Now you want to use your roll number instead of your name in the very first task. Go ahead and do it and make a commit, don't push it this time. Now you think that your identity should not be limited to a number, so you want to again revert back, but you want to do so without changing the code. Git has your back here. Google how to rever a commit and go back to your initial state. Hint- https://opensource.com/article/18/6/git-reset-revert-rebase-commands\n"
   ]
  },
  {
   "cell_type": "markdown",
   "metadata": {},
   "source": [
    "Let's march ahead with python. We will use import an image(you can use any image, get it to your directory and start working). Google how to import an image in python(Search about OpenCV/PIL library). Convert the image into grayscale and show the image.(to show you can use cv2 and also you can use matplotlib, Google both the methods)"
   ]
  },
  {
   "cell_type": "code",
   "execution_count": null,
   "metadata": {},
   "outputs": [],
   "source": [
    "#your code here"
   ]
  },
  {
   "cell_type": "markdown",
   "metadata": {},
   "source": [
    "Now we will see git branching in action. So basically let's say you and your friend are working on the same project. One utility git provides that you both can independently work without affecting each other. To do so we create branches. So now create a new branch with branchname as your name and checkout to that branch. Hint - ```git branch``` (I am once again asking you to Google xD) Search about other options for git branch. Now whatever you will implement will be done in your branch and won't affect the entire application."
   ]
  },
  {
   "cell_type": "markdown",
   "metadata": {},
   "source": [
    "So let's do something in your branch. Now crop the image into a new image, to get a new image which is 1/4th the size of the original image.(keep only the topleft portion). Apply a gaussian blur on the cropped image and again print the image to see the effects.\n"
   ]
  },
  {
   "cell_type": "code",
   "execution_count": null,
   "metadata": {},
   "outputs": [],
   "source": [
    "#your code here"
   ]
  },
  {
   "cell_type": "markdown",
   "metadata": {},
   "source": [
    "Now calculate the mean and median pixel values of the cropped image. Numpy will come in handy. Now we will do histogramming of the pixels. Search about calcHist function from cv2 library to build the histogram. Now plot the histogram using matplotlib library (don't forget to import it xP)"
   ]
  },
  {
   "cell_type": "code",
   "execution_count": null,
   "metadata": {},
   "outputs": [],
   "source": [
    "#your code here"
   ]
  },
  {
   "cell_type": "markdown",
   "metadata": {},
   "source": [
    "So now you have completed working on your cropped Image. That brings you back to commit and push. So here you have to push from your branch only, because you have committed on that branch. Google how to do that. "
   ]
  },
  {
   "cell_type": "markdown",
   "metadata": {},
   "source": [
    "Impressed with your work, you finally decided that your work on your branch should be there on the main project(which is the main branch). So you want to merge your branch to main branch. Google how to do that. ```Hint - git merge```. Here do find out about merge conflicts(beleive me you don't want them). Again a merge command is itself a commit, so you have to again push it to github. Now finally we are in the main branch. You can use another utility command ```git log``` to see your entire commit history."
   ]
  },
  {
   "cell_type": "markdown",
   "metadata": {},
   "source": [
    "Let's now do some so called \"cool\" stuff with the image to realise the chadness of python libraries. In the original image(not the cropped one) we will do edge detection(we will use canny edge detection method which is a common method). Surprisingly openCV handles it very easily. To know how - https://docs.opencv.org/master/da/d22/tutorial_py_canny.html ."
   ]
  },
  {
   "cell_type": "code",
   "execution_count": null,
   "metadata": {},
   "outputs": [],
   "source": [
    "#your code here"
   ]
  },
  {
   "cell_type": "markdown",
   "metadata": {},
   "source": [
    "It's done ? Not yet. This exercise was just to get you familiar with python libraries and give an introduction to python. There are literally infite number of utility libraries and functions that have been built for python users. You can even publish your own library for the open-source community(how? - https://realpython.com/pypi-publish-python-package/). But one flaw of python is that it is still quite slow, Julia is an upcoming similar nascent language which performs better with this regard, do Google about it)"
   ]
  },
  {
   "cell_type": "markdown",
   "metadata": {},
   "source": [
    "NOTE - IF YOU HAVE ANY DOUBTS REGARDING ASSIGNMENTS/COURSES, FEEL FREE TO ASK/HELP YOUR COMENTEES (preferably) AND MENTORS. WE WOULD LOVE TO WORK IN A COLLABORATIVE WAY."
   ]
  }
 ],
 "metadata": {
  "kernelspec": {
   "display_name": "Python 3",
   "language": "python",
   "name": "python3"
  },
  "language_info": {
   "codemirror_mode": {
    "name": "ipython",
    "version": 3
   },
   "file_extension": ".py",
   "mimetype": "text/x-python",
   "name": "python",
   "nbconvert_exporter": "python",
   "pygments_lexer": "ipython3",
   "version": "3.7.3"
  }
 },
 "nbformat": 4,
 "nbformat_minor": 5
}
